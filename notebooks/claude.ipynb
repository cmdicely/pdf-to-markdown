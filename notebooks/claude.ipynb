{
 "cells": [
  {
   "cell_type": "markdown",
   "metadata": {},
   "source": [
    "# PDF to Markdown with Claude 3 Haiku\n",
    "Make sure you have an `ANTHROPIC_API_KEY` in your environment variables, or you aren't going to be able to run this notebook in its entirety.\n",
    "\n",
    "Let's import the necessary dependencies."
   ]
  },
  {
   "cell_type": "code",
   "execution_count": null,
   "metadata": {},
   "outputs": [],
   "source": [
    "import os\n",
    "import base64\n",
    "from pathlib import Path\n",
    "from pdf2image import convert_from_path\n",
    "import anthropic\n",
    "\n",
    "api_key = os.environ.get(\"ANTHROPIC_API_KEY\")\n",
    "\n",
    "client = anthropic.Client(api_key=api_key)\n"
   ]
  },
  {
   "cell_type": "markdown",
   "metadata": {},
   "source": [
    "First we import the pdf we want to convert to markdown. In this case we're calling it `convert-me-to-markdown.pdf`."
   ]
  },
  {
   "cell_type": "code",
   "execution_count": null,
   "metadata": {},
   "outputs": [],
   "source": [
    "if not os.path.exists(\"page_jpegs\"):\n",
    "    os.makedirs(\"page_jpegs\")\n",
    "    \n",
    "print(f\"Converting PDF to images with DPI={300}...\")\n",
    "images = convert_from_path(\"./convert-me-to-markdown.pdf\", dpi=300, fmt='jpeg')\n",
    "total_pages = len(images)\n",
    "digits = len(str(total_pages))\n",
    "\n",
    "for i, image in enumerate(images):\n",
    "    image_path = os.path.join(\"page_jpegs\", f\"Page_{str(i+1).zfill(digits)}.jpeg\")\n",
    "    image.save(image_path, \"JPEG\")\n",
    "    print(f\"Page {i+1} saved as image: {image_path}\")"
   ]
  },
  {
   "cell_type": "markdown",
   "metadata": {},
   "source": [
    "Now that we have jpeg images of the pdf pages, we can use the our multi-modal model to convert the images to markdown."
   ]
  },
  {
   "cell_type": "code",
   "execution_count": null,
   "metadata": {},
   "outputs": [],
   "source": [
    "def encode_image_to_base64(image_path):\n",
    "    with open(image_path, \"rb\") as image_file:\n",
    "        return base64.b64encode(image_file.read()).decode('utf-8')\n",
    "\n",
    "def image_to_markdown(base64_image):\n",
    "    response = client.messages.create(\n",
    "        model=\"claude-3-opus-20240229\", # Opus claude-3-opus-20240229 or Haiku claude-3-haiku-20240307\n",
    "        max_tokens=4096,\n",
    "        messages=[\n",
    "            {\n",
    "                \"role\": \"user\",\n",
    "                \"content\": [\n",
    "                    {\n",
    "                        \"type\": \"image\",\n",
    "                        \"source\": {\n",
    "                            \"type\": \"base64\",\n",
    "                            \"media_type\": \"image/jpeg\",\n",
    "                            \"data\": base64_image,\n",
    "                        },\n",
    "                    },\n",
    "                    {\n",
    "                        \"type\": \"text\",\n",
    "                        \"text\": \"Give me the markdown text output from this page in a PDF using formatting to match the structure of the page as close as you can get. Only output the markdown and nothing else. Do not explain the output, just return it. Do not use a single # for a heading. All headings will start with ## or ###. Convert tables to markdown tables. Describe charts as best you can. DO NOT return in a codeblock. Just return the raw text in markdown format.\"\n",
    "                    }\n",
    "                ],\n",
    "            }\n",
    "        ],\n",
    "    )\n",
    "\n",
    "\n",
    "    return response.content[0].text\n",
    "\n",
    "if not os.path.exists(\"page_markdowns\"):\n",
    "    os.makedirs(\"page_markdowns\")\n",
    "\n",
    "images = sorted(Path(\"page_jpegs\").iterdir(), key=lambda x: x.stem)\n",
    "for image_path in images:\n",
    "    print(f\"Processing {image_path.name}...\")\n",
    "    base64_image = encode_image_to_base64(str(image_path))\n",
    "    markdown_content = image_to_markdown(base64_image)\n",
    "    output_path = Path(\"page_markdowns\") / f\"{image_path.stem}.md\"\n",
    "    with open(output_path, 'w') as f:\n",
    "        f.write(markdown_content)\n",
    "        print(f\"Markdown for {image_path.name} saved to {output_path}\")\n",
    "\n",
    "print(\"All images converted to markdown.\")"
   ]
  },
  {
   "cell_type": "markdown",
   "metadata": {},
   "source": [
    "Now we will clean up the markdown, removing any unnecessary characters and image tags"
   ]
  },
  {
   "cell_type": "code",
   "execution_count": null,
   "metadata": {},
   "outputs": [],
   "source": [
    "def clean_markdown_content(text):\n",
    "    \"\"\"\n",
    "    Sends the markdown text to Claude 3 to remove irrelevant content.\n",
    "    \"\"\"\n",
    "\n",
    "    response = client.messages.create(\n",
    "        model=\"claude-3-opus-20240229\", # Opus claude-3-opus-20240229 or Haiku claude-3-haiku-20240307\n",
    "        max_tokens=4096,\n",
    "        system=\"You are tasked with cleaning up the following markdown text. You should return only the cleaned up markdown text. Do not explain your output or reasoning. \\n remove any irellevant text from the markdown, returning the cleaned up version of the content. Examples include any images []() or 'click here' or 'Listen to this article' or page numbers or logos.\",\n",
    "        messages=[\n",
    "            {\n",
    "                \"role\": \"user\",\n",
    "                \"content\": text,\n",
    "            }\n",
    "        ],\n",
    "    )\n",
    "\n",
    "    try:\n",
    "        cleaned_content = response.content[0].text if response.content else \"\"\n",
    "    except AttributeError:\n",
    "        cleaned_content = \"Error in processing image to markdown. Response format may have changed or is invalid.\"\n",
    "        print(cleaned_content)\n",
    "    \n",
    "    return cleaned_content\n",
    "\n",
    "def process_markdown_files(input_directory_path, output_directory_path):\n",
    "    \"\"\"\n",
    "    Iterates through markdown files in the given input directory, cleans their content,\n",
    "    and saves the cleaned content to a corresponding file in the output directory.\n",
    "    \"\"\"\n",
    "    input_dir = Path(input_directory_path)\n",
    "    output_dir = Path(output_directory_path)\n",
    "\n",
    "    # Create the output directory if it doesn't exist\n",
    "    output_dir.mkdir(parents=True, exist_ok=True)\n",
    "\n",
    "    if not input_dir.is_dir():\n",
    "        print(f\"The directory {input_directory_path} does not exist.\")\n",
    "        return\n",
    "    \n",
    "    # Sort the files in alphanumeric order before processing\n",
    "    sorted_files = sorted(input_dir.glob('*.md'), key=lambda path: path.stem)\n",
    "\n",
    "    for markdown_file in sorted_files:\n",
    "        print(f\"Processing {markdown_file.name}...\")\n",
    "        with open(markdown_file, 'r', encoding='utf-8') as file:\n",
    "            content = file.read()\n",
    "\n",
    "        cleaned_content = clean_markdown_content(content)\n",
    "\n",
    "        # Define the path for the cleaned file in the output directory\n",
    "        cleaned_file_path = output_dir / markdown_file.name\n",
    "        with open(cleaned_file_path, 'w', encoding='utf-8') as file:\n",
    "            file.write(cleaned_content)\n",
    "        print(f\"Cleaned content saved to {cleaned_file_path}\")\n",
    "\n",
    "\n",
    "markdown_files_directory = \"page_markdowns\"\n",
    "cleaned_markdown_directory = \"cleaned_page_markdowns\"\n",
    "process_markdown_files(markdown_files_directory, cleaned_markdown_directory)\n",
    "print(\"Markdown cleanup process completed.\")\n"
   ]
  },
  {
   "cell_type": "markdown",
   "metadata": {},
   "source": [
    "Congrats! At this point you have converted a PDF to a bunch of JPEGs, converted those JPEGs to Markdown using a multi-modal model, and cleaned up the markdown using a Large Language Model.\n",
    "\n",
    "For next steps, you could stitch the markdown together into a single file, chunk up the markdown for ingestion into a Vector Database, use an LLM to generate Knowledge Graphs out of the markdown pages, or anything else you can think of! You could even just copy and paste the markdown into something like ChatGPT and ask questions about the content. The possibilities are endless!"
   ]
  }
 ],
 "metadata": {
  "kernelspec": {
   "display_name": "Python 3",
   "language": "python",
   "name": "python3"
  },
  "language_info": {
   "codemirror_mode": {
    "name": "ipython",
    "version": 3
   },
   "file_extension": ".py",
   "mimetype": "text/x-python",
   "name": "python",
   "nbconvert_exporter": "python",
   "pygments_lexer": "ipython3",
   "version": "3.10.13"
  }
 },
 "nbformat": 4,
 "nbformat_minor": 2
}
